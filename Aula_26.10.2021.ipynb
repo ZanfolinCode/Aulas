{
 "cells": [
  {
   "cell_type": "markdown",
   "metadata": {},
   "source": [
    "## Início da aula\n",
    "* notebook feito por Rafael Henrique Belini Zanfolin"
   ]
  },
  {
   "cell_type": "markdown",
   "metadata": {},
   "source": [
    "### Tipos de dado"
   ]
  },
  {
   "cell_type": "code",
   "execution_count": 17,
   "metadata": {},
   "outputs": [
    {
     "data": {
      "text/plain": [
       "str"
      ]
     },
     "execution_count": 17,
     "metadata": {},
     "output_type": "execute_result"
    }
   ],
   "source": [
    "#String\n",
    "\n",
    "string = \"arroz\"\n",
    "type(string)"
   ]
  },
  {
   "cell_type": "code",
   "execution_count": 18,
   "metadata": {},
   "outputs": [
    {
     "data": {
      "text/plain": [
       "int"
      ]
     },
     "execution_count": 18,
     "metadata": {},
     "output_type": "execute_result"
    }
   ],
   "source": [
    "#Número inteiro\n",
    "\n",
    "inteiro = 1\n",
    "type(inteiro)"
   ]
  },
  {
   "cell_type": "code",
   "execution_count": 20,
   "metadata": {},
   "outputs": [
    {
     "data": {
      "text/plain": [
       "float"
      ]
     },
     "execution_count": 20,
     "metadata": {},
     "output_type": "execute_result"
    }
   ],
   "source": [
    "#Número ponto flutuante (ententido como decimal para facilitar)\n",
    "\n",
    "floating_number = 1.1\n",
    "type(floating_number)"
   ]
  },
  {
   "cell_type": "markdown",
   "metadata": {},
   "source": [
    "### Variável"
   ]
  },
  {
   "cell_type": "code",
   "execution_count": 25,
   "metadata": {},
   "outputs": [
    {
     "name": "stdout",
     "output_type": "stream",
     "text": [
      "A variável tem o valor 0 armazenado nela\n",
      "A variavel tem o valor 1 armazenado nela\n"
     ]
    }
   ],
   "source": [
    "#Varíavel é uma caixa vazia que é criada para se armazenar algum dado\n",
    "\n",
    "#Crie uma variável chamada \"variavel\" e adicionei o inteiro 0 nela\n",
    "variavel = 0\n",
    "print(f'A variável tem o valor {variavel} armazenado nela')\n",
    "\n",
    "#Posso fazer alteração de valores na variável\n",
    "#Exclue-se o valor anterior da variável e adiciona-se outro valor nela\n",
    "variavel = 1\n",
    "print(f'A variavel tem o valor {variavel} armazenado nela')"
   ]
  },
  {
   "cell_type": "markdown",
   "metadata": {},
   "source": [
    "### String"
   ]
  },
  {
   "cell_type": "code",
   "execution_count": 27,
   "metadata": {},
   "outputs": [
    {
     "data": {
      "text/plain": [
       "str"
      ]
     },
     "execution_count": 27,
     "metadata": {},
     "output_type": "execute_result"
    }
   ],
   "source": [
    "#O computador só entende 0 e 1, pois é feito em linguagem binária\n",
    "#Para o computador entender a LINGUAGEM HUMANA criaram o tipo de dado STRING\n",
    "#Toda string deve ser escrita entre aspas\n",
    "\n",
    "string_teste = \"arroz\"\n",
    "type(string_teste)"
   ]
  },
  {
   "cell_type": "markdown",
   "metadata": {},
   "source": [
    "#### Formatação de string"
   ]
  },
  {
   "cell_type": "code",
   "execution_count": 64,
   "metadata": {},
   "outputs": [
    {
     "name": "stdout",
     "output_type": "stream",
     "text": [
      "O joão tem 10 anos\n"
     ]
    }
   ],
   "source": [
    "#É possível inserir o valor de uma variável dentro de uma string!\n",
    "\n",
    "variavel_inserida = 10\n",
    "\n",
    "# f'' é utilizado como padrão de formatação nas novas versões do python\n",
    "# A variável está dentro de {}\n",
    "string_teste_insercao_variavel = f'O joão tem {variavel_inserida} anos'\n",
    "\n",
    "print(string_teste_insercao_variavel)"
   ]
  },
  {
   "cell_type": "markdown",
   "metadata": {},
   "source": [
    "#### Mudança da cor de uma string"
   ]
  },
  {
   "cell_type": "code",
   "execution_count": 77,
   "metadata": {},
   "outputs": [
    {
     "name": "stdout",
     "output_type": "stream",
     "text": [
      "Nadar na piscina é refrescante!\n",
      "\u001b[32mNadar na piscina é refrescante!\n",
      "\u001b[42mNadar na piscina é refrescante!\n",
      "\u001b[0mNadar na piscina é refrescante!\n",
      "\u001b[42mNadar na piscina é refrescante!\n"
     ]
    }
   ],
   "source": [
    "#Necessário importar a BIBLIOTECA colorama\n",
    "import colorama\n",
    "#Mais especificamente as funções Fore, Back e Style\n",
    "from colorama import Fore, Back, Style\n",
    "\n",
    "#String utilizada como base\n",
    "string_comum = \"Nadar na piscina é refrescante!\"\n",
    "print(string_comum)\n",
    "\n",
    "#Mudando a cor para verde\n",
    "string_modificada = f'{Fore.GREEN}{string_comum}'\n",
    "print(string_modificada)\n",
    "\n",
    "string_modificada_2 = f'{Back.GREEN}{string_comum}'\n",
    "print(string_modificada_2)\n",
    "\n",
    "#É necessário resetar a formatação da string antes de modificar ela de novo!\n",
    "#Porque podem acontecer erros como o de cima, onde o fundo fica igual a cor das palavras!!\n",
    "string_resetada = f'{Style.RESET_ALL}{string_comum}'\n",
    "print(string_resetada)\n",
    "string_resetada_fundo_verde = f'{Back.GREEN}{string_comum}'\n",
    "print(string_resetada_fundo_verde)"
   ]
  },
  {
   "cell_type": "markdown",
   "metadata": {},
   "source": [
    "#### Concatenação de strings"
   ]
  },
  {
   "cell_type": "code",
   "execution_count": 29,
   "metadata": {},
   "outputs": [
    {
     "name": "stdout",
     "output_type": "stream",
     "text": [
      "Arroz com feijão é uma comida típica brasileira\n"
     ]
    }
   ],
   "source": [
    "#Posso somar strings com strings, isso se chama Concatenação\n",
    "\n",
    "string_1 = \"Arroz com feijão é \"\n",
    "string_2 = \"uma comida típica brasileira\"\n",
    "\n",
    "string_3 = string_1 + string_2\n",
    "print(string_3)\n"
   ]
  },
  {
   "cell_type": "code",
   "execution_count": 33,
   "metadata": {},
   "outputs": [
    {
     "name": "stdout",
     "output_type": "stream",
     "text": [
      "Arroz com batataArroz com batataArroz com batataArroz com batata\n"
     ]
    }
   ],
   "source": [
    "#Posso multiplicar uma string, repetindo várias vezese ela mesma\n",
    "\n",
    "string_4 = \"Arroz com batata\"\n",
    "repeticoes = 4\n",
    "print(string_4 * repeticoes)"
   ]
  },
  {
   "cell_type": "markdown",
   "metadata": {},
   "source": [
    "### Lista"
   ]
  },
  {
   "cell_type": "code",
   "execution_count": 44,
   "metadata": {},
   "outputs": [
    {
     "name": "stdout",
     "output_type": "stream",
     "text": [
      "0\n",
      "[0, 1]\n"
     ]
    }
   ],
   "source": [
    "#Lista é um conjunto de dados ordenados\n",
    "lista_teste = [0,1,2,3,4,5,6,7,8,9]\n",
    "\n",
    "#Selecionar um dados específico dentro da lista por meio da posição\n",
    "#Lembrando que em Python (e em quase todas linguagens de programação) inicia-se no posicionamento 0 e não 1!\n",
    "seleciona = lista_teste[0]\n",
    "print(seleciona)\n",
    "\n",
    "#Cortas alguns dados dentro de uma lista\n",
    "#Começa o corte no posicionamento 0 (primeiro argumento) e termina no elemento imediatamente antes do 2 (segundo argumento)\n",
    "corte = lista_teste[0:2]\n",
    "print(corte)"
   ]
  },
  {
   "cell_type": "markdown",
   "metadata": {},
   "source": [
    "### Booleano, verificação de veracidade"
   ]
  },
  {
   "cell_type": "code",
   "execution_count": 46,
   "metadata": {},
   "outputs": [
    {
     "data": {
      "text/plain": [
       "True"
      ]
     },
     "execution_count": 46,
     "metadata": {},
     "output_type": "execute_result"
    }
   ],
   "source": [
    "#Booleanos são conhecidos como \"True or false statement\", utilizados para verificar se uma máxima é verdadeira ou falsa\n",
    "\n",
    "#Pegadinha clássica, \"1\" é diferente de 1\n",
    "\"1\" != 1"
   ]
  },
  {
   "cell_type": "markdown",
   "metadata": {},
   "source": [
    "### Condicional"
   ]
  },
  {
   "cell_type": "code",
   "execution_count": 55,
   "metadata": {},
   "outputs": [
    {
     "name": "stdout",
     "output_type": "stream",
     "text": [
      "O número 1 é divisível pelo número 2, porque o resto é 0\n"
     ]
    }
   ],
   "source": [
    "#Também conhecido por \"if/else statement\"\n",
    "#É necessário entender o que é um Booleano para assim se aprender Condicional\n",
    "\n",
    "#Mudar a variável numero_1 para verificar a resposta que o código dá!\n",
    "numero_1 = 6\n",
    "numero_2 = 2\n",
    "\n",
    "if numero_1 % numero_2 == 0:\n",
    "    print(\"O número 1 é divisível pelo número 2, porque o resto é 0\")\n",
    "else:\n",
    "    print(\"O número 1 não é divisível pelo número 2, porque o resto não é 0\")"
   ]
  },
  {
   "cell_type": "code",
   "execution_count": 61,
   "metadata": {},
   "outputs": [
    {
     "name": "stdout",
     "output_type": "stream",
     "text": [
      "A palavra é grande, tem 26 caracteres\n"
     ]
    }
   ],
   "source": [
    "#No python na realiade existem 3 tipos de condicionais: if / elif / else\n",
    "\n",
    "#Mudar a palavra para verificar qual a resposta (output) do código\n",
    "palavra = \"Arroz com feijão é gostoso\"\n",
    "tamanho_palavra = len(palavra)\n",
    "\n",
    "if tamanho_palavra < 5:\n",
    "    print(f'A palavra é bem pequena, tem somente {tamanho_palavra} caracteres!')\n",
    "elif tamanho_palavra < 11:\n",
    "    print(f'A palavra é media, tem {tamanho_palavra} caracteres')\n",
    "else:\n",
    "    print(f'A palavra é grande, tem {tamanho_palavra} caracteres')"
   ]
  },
  {
   "cell_type": "markdown",
   "metadata": {},
   "source": [
    "## Exercícios previstos"
   ]
  },
  {
   "cell_type": "code",
   "execution_count": 1,
   "metadata": {},
   "outputs": [
    {
     "name": "stdout",
     "output_type": "stream",
     "text": [
      "     \n",
      "     *\n",
      "    * *\n",
      "   * * *\n",
      "  * * * *\n",
      " * * * * *\n"
     ]
    }
   ],
   "source": [
    "# Exercício 9\n",
    "\n",
    "#Percebe-se que em cada iteração é adicionado um espaço e um asterisco\n",
    "espaco_asterisco = \" *\"\n",
    "contador = 0\n",
    "#Necessário declarar uma variável que recebe uma string vazia\n",
    "string = \"\"\n",
    "#Primeira linha deve ter 5 espaços (padrão mostrado pela Libânia)\n",
    "contador_de_espaco = 5\n",
    "\n",
    "#Encerraro o looping quando não ter mais espaço até o primeiro asterisco\n",
    "while contador_de_espaco >= 0:\n",
    "    #Concatenação / aglutinação de string\n",
    "    #Testar contador_espaco = 1, depois contador_espaco = 2\n",
    "    string = (\" \"*contador_de_espaco) + (contador*espaco_asterisco)\n",
    "    \n",
    "    #Printar para aparecer o padrão de asteriscos\n",
    "    print(string)\n",
    "    \n",
    "    #Aumentar o número de espaço_asterisco depois do primeiro asterisco\n",
    "    contador = contador + 1\n",
    "    #Aumentar o contador_espaco para o looping acabar uma hora\n",
    "    contador_de_espaco = contador_de_espaco - 1"
   ]
  },
  {
   "cell_type": "code",
   "execution_count": 2,
   "metadata": {},
   "outputs": [
    {
     "data": {
      "text/plain": [
       "[1,\n",
       " 1,\n",
       " 2,\n",
       " 3,\n",
       " 5,\n",
       " 8,\n",
       " 13,\n",
       " 21,\n",
       " 34,\n",
       " 55,\n",
       " 89,\n",
       " 144,\n",
       " 233,\n",
       " 377,\n",
       " 610,\n",
       " 987,\n",
       " 1597,\n",
       " 2584,\n",
       " 4181,\n",
       " 6765,\n",
       " 10946,\n",
       " 17711,\n",
       " 28657,\n",
       " 46368,\n",
       " 75025,\n",
       " 121393,\n",
       " 196418,\n",
       " 317811,\n",
       " 514229,\n",
       " 832040,\n",
       " 1346269,\n",
       " 2178309,\n",
       " 3524578,\n",
       " 5702887,\n",
       " 9227465,\n",
       " 14930352,\n",
       " 24157817,\n",
       " 39088169,\n",
       " 63245986,\n",
       " 102334155,\n",
       " 165580141,\n",
       " 267914296,\n",
       " 433494437,\n",
       " 701408733,\n",
       " 1134903170,\n",
       " 1836311903,\n",
       " 2971215073,\n",
       " 4807526976,\n",
       " 7778742049,\n",
       " 12586269025,\n",
       " 20365011074,\n",
       " 32951280099,\n",
       " 53316291173,\n",
       " 86267571272,\n",
       " 139583862445,\n",
       " 225851433717,\n",
       " 365435296162,\n",
       " 591286729879,\n",
       " 956722026041,\n",
       " 1548008755920,\n",
       " 2504730781961,\n",
       " 4052739537881,\n",
       " 6557470319842,\n",
       " 10610209857723,\n",
       " 17167680177565,\n",
       " 27777890035288,\n",
       " 44945570212853,\n",
       " 72723460248141,\n",
       " 117669030460994,\n",
       " 190392490709135,\n",
       " 308061521170129,\n",
       " 498454011879264,\n",
       " 806515533049393,\n",
       " 1304969544928657,\n",
       " 2111485077978050,\n",
       " 3416454622906707,\n",
       " 5527939700884757,\n",
       " 8944394323791464,\n",
       " 14472334024676221,\n",
       " 23416728348467685,\n",
       " 37889062373143906,\n",
       " 61305790721611591,\n",
       " 99194853094755497,\n",
       " 160500643816367088,\n",
       " 259695496911122585,\n",
       " 420196140727489673,\n",
       " 679891637638612258,\n",
       " 1100087778366101931,\n",
       " 1779979416004714189,\n",
       " 2880067194370816120,\n",
       " 4660046610375530309,\n",
       " 7540113804746346429,\n",
       " 12200160415121876738,\n",
       " 19740274219868223167,\n",
       " 31940434634990099905,\n",
       " 51680708854858323072,\n",
       " 83621143489848422977,\n",
       " 135301852344706746049,\n",
       " 218922995834555169026,\n",
       " 354224848179261915075]"
      ]
     },
     "execution_count": 2,
     "metadata": {},
     "output_type": "execute_result"
    }
   ],
   "source": [
    "#Exercício 10\n",
    "\n",
    "#Contador deve ser 2 porque na Fibonaci pega os dois números antecessores\n",
    "contador = 2\n",
    "\n",
    "#Criando a variável número, ela tem que ser um inteiro\n",
    "numero = 0\n",
    "\n",
    "#É necessário colocar os dois primeiros números, se não ficará \"List out of range!\"\n",
    "fibonaci = [1,1]\n",
    "\n",
    "#Até quantos valores de Fibonaci a lista vai ter?\n",
    "limitante = 100\n",
    "\n",
    "#Quando contador = limitante, o looping para automaticamente!\n",
    "while contador < limitante:\n",
    "    \n",
    "    #numero novo = soma dos seus dois antecessores\n",
    "    numero = fibonaci[contador-2] + fibonaci[contador-1]\n",
    "    \n",
    "    #adiciona na lista Fibonaci o novo número\n",
    "    fibonaci.append(numero)\n",
    "    \n",
    "    #aumenta o contador de um em um\n",
    "    contador = contador + 1\n",
    "\n",
    "fibonaci"
   ]
  },
  {
   "cell_type": "code",
   "execution_count": 7,
   "metadata": {},
   "outputs": [
    {
     "name": "stdout",
     "output_type": "stream",
     "text": [
      "Digite um número: 2\n",
      "É primo\n"
     ]
    }
   ],
   "source": [
    "#Exercício 11\n",
    "\n",
    "#Algoritmo bem primário para checagem de número primo (primality test)\n",
    "\n",
    "#Como deve-se fazer um programa, é necessário um input\n",
    "numero_2 = int(input(\"Digite um número: \"))\n",
    "\n",
    "\n",
    "#Contador começa no 2 porque tanto 0 quanto o 1 não são primos\n",
    "contador_2 = 2\n",
    "\n",
    "#Lista com os 8 primeiros primos para evitar erros\n",
    "lista_excecao = [2,3,5,7,11,13,17,23]\n",
    "#Tanto 0 quanto 1 não são primos\n",
    "lista_exclusao = [0,1]\n",
    "\n",
    "#Contador_2 vai de 2 até 9, porque existem 9 algarismos\n",
    "while contador_2 <= 9:\n",
    "    \n",
    "    #Se contador_2 == 0 ou contador_2 == 1 o número_2 não é primo!\n",
    "    if numero_2 in lista_exclusao:\n",
    "        print(\"Não é primo!\")\n",
    "        \n",
    "        #Encerra o looping\n",
    "        break\n",
    "    \n",
    "    \n",
    "    #Se o numero_2 tiver resto de divisão por números entre 2 a 9 = 0, não é primo!\n",
    "    #Se estiver na lista_excecao => É primo!\n",
    "    elif numero_2 % contador_2 == 0 and numero_2 not in lista_excecao:\n",
    "        print(\"Não é primo!\")\n",
    "        \n",
    "        break\n",
    "        \n",
    "    contador_2 = contador_2 + 1\n",
    "\n",
    "#Se numero_2 não está na lista exclusão \"E\" resto da divisão por 2 é diferente de 0 ou numero_2 ta na lista_excecao: É primo!\n",
    "if numero_2 not in lista_exclusao and numero_2 % contador_2 != 0 or numero_2 in lista_excecao:\n",
    "    print(\"É primo\")"
   ]
  },
  {
   "cell_type": "markdown",
   "metadata": {},
   "source": [
    "## Início dos Exercícios Extras"
   ]
  },
  {
   "cell_type": "code",
   "execution_count": 8,
   "metadata": {},
   "outputs": [],
   "source": [
    "import pandas as pd"
   ]
  },
  {
   "cell_type": "code",
   "execution_count": 9,
   "metadata": {},
   "outputs": [
    {
     "data": {
      "text/html": [
       "<div>\n",
       "<style scoped>\n",
       "    .dataframe tbody tr th:only-of-type {\n",
       "        vertical-align: middle;\n",
       "    }\n",
       "\n",
       "    .dataframe tbody tr th {\n",
       "        vertical-align: top;\n",
       "    }\n",
       "\n",
       "    .dataframe thead th {\n",
       "        text-align: right;\n",
       "    }\n",
       "</style>\n",
       "<table border=\"1\" class=\"dataframe\">\n",
       "  <thead>\n",
       "    <tr style=\"text-align: right;\">\n",
       "      <th></th>\n",
       "      <th>Title</th>\n",
       "      <th>Year</th>\n",
       "      <th>Main genre</th>\n",
       "      <th>Genres</th>\n",
       "      <th>Language</th>\n",
       "      <th>Country</th>\n",
       "      <th>Content Rating</th>\n",
       "      <th>Duration</th>\n",
       "      <th>Aspect Ratio</th>\n",
       "      <th>Budget</th>\n",
       "      <th>...</th>\n",
       "      <th>Facebook Likes - Actor 1</th>\n",
       "      <th>Facebook Likes - Actor 2</th>\n",
       "      <th>Facebook Likes - Actor 3</th>\n",
       "      <th>Facebook Likes - cast Total</th>\n",
       "      <th>Facebook likes - Movie</th>\n",
       "      <th>Facenumber in posters</th>\n",
       "      <th>User Votes</th>\n",
       "      <th>Reviews by Users</th>\n",
       "      <th>Reviews by Crtiics</th>\n",
       "      <th>IMDB Score</th>\n",
       "    </tr>\n",
       "  </thead>\n",
       "  <tbody>\n",
       "    <tr>\n",
       "      <th>0</th>\n",
       "      <td>500 Days of Summer</td>\n",
       "      <td>2009.0</td>\n",
       "      <td>Comedy</td>\n",
       "      <td>Comedy|Drama|Romance</td>\n",
       "      <td>English</td>\n",
       "      <td>USA</td>\n",
       "      <td>PG-13</td>\n",
       "      <td>95.0</td>\n",
       "      <td>2.35</td>\n",
       "      <td>7500000.0</td>\n",
       "      <td>...</td>\n",
       "      <td>23000.0</td>\n",
       "      <td>17000.0</td>\n",
       "      <td>11000.0</td>\n",
       "      <td>54075</td>\n",
       "      <td>40000</td>\n",
       "      <td>43</td>\n",
       "      <td>376600</td>\n",
       "      <td>494.0</td>\n",
       "      <td>331.0</td>\n",
       "      <td>7.7</td>\n",
       "    </tr>\n",
       "    <tr>\n",
       "      <th>1</th>\n",
       "      <td>The Master</td>\n",
       "      <td>2012.0</td>\n",
       "      <td>Drama</td>\n",
       "      <td>Drama</td>\n",
       "      <td>English</td>\n",
       "      <td>USA</td>\n",
       "      <td>R</td>\n",
       "      <td>144.0</td>\n",
       "      <td>1.85</td>\n",
       "      <td>32000000.0</td>\n",
       "      <td>...</td>\n",
       "      <td>378.0</td>\n",
       "      <td>18.0</td>\n",
       "      <td>15.0</td>\n",
       "      <td>427</td>\n",
       "      <td>27000</td>\n",
       "      <td>31</td>\n",
       "      <td>105144</td>\n",
       "      <td>405.0</td>\n",
       "      <td>546.0</td>\n",
       "      <td>7.1</td>\n",
       "    </tr>\n",
       "    <tr>\n",
       "      <th>2</th>\n",
       "      <td>Battle of the Year</td>\n",
       "      <td>2013.0</td>\n",
       "      <td>Drama</td>\n",
       "      <td>Drama|Music</td>\n",
       "      <td>English</td>\n",
       "      <td>USA</td>\n",
       "      <td>PG-13</td>\n",
       "      <td>110.0</td>\n",
       "      <td>1.85</td>\n",
       "      <td>20000000.0</td>\n",
       "      <td>...</td>\n",
       "      <td>997.0</td>\n",
       "      <td>941.0</td>\n",
       "      <td>826.0</td>\n",
       "      <td>3177</td>\n",
       "      <td>0</td>\n",
       "      <td>19</td>\n",
       "      <td>7894</td>\n",
       "      <td>25.0</td>\n",
       "      <td>65.0</td>\n",
       "      <td>5.0</td>\n",
       "    </tr>\n",
       "  </tbody>\n",
       "</table>\n",
       "<p>3 rows × 26 columns</p>\n",
       "</div>"
      ],
      "text/plain": [
       "                 Title    Year Main genre                Genres Language  \\\n",
       "0  500 Days of Summer   2009.0     Comedy  Comedy|Drama|Romance  English   \n",
       "1          The Master   2012.0      Drama                 Drama  English   \n",
       "2  Battle of the Year   2013.0      Drama           Drama|Music  English   \n",
       "\n",
       "  Country Content Rating  Duration  Aspect Ratio      Budget  ...  \\\n",
       "0     USA          PG-13      95.0          2.35   7500000.0  ...   \n",
       "1     USA              R     144.0          1.85  32000000.0  ...   \n",
       "2     USA          PG-13     110.0          1.85  20000000.0  ...   \n",
       "\n",
       "   Facebook Likes - Actor 1 Facebook Likes - Actor 2 Facebook Likes - Actor 3  \\\n",
       "0                   23000.0                  17000.0                  11000.0   \n",
       "1                     378.0                     18.0                     15.0   \n",
       "2                     997.0                    941.0                    826.0   \n",
       "\n",
       "  Facebook Likes - cast Total Facebook likes - Movie  Facenumber in posters  \\\n",
       "0                       54075                  40000                     43   \n",
       "1                         427                  27000                     31   \n",
       "2                        3177                      0                     19   \n",
       "\n",
       "   User Votes  Reviews by Users  Reviews by Crtiics  IMDB Score  \n",
       "0      376600             494.0               331.0         7.7  \n",
       "1      105144             405.0               546.0         7.1  \n",
       "2        7894              25.0                65.0         5.0  \n",
       "\n",
       "[3 rows x 26 columns]"
      ]
     },
     "execution_count": 9,
     "metadata": {},
     "output_type": "execute_result"
    }
   ],
   "source": [
    "database = pd.read_excel(\"http://profalibania.com.br/python/bigmovies.xlsx\")\n",
    "database.head(3)"
   ]
  },
  {
   "cell_type": "code",
   "execution_count": 14,
   "metadata": {},
   "outputs": [
    {
     "data": {
      "text/plain": [
       "Main genre\n",
       "Action         6.185804\n",
       "Adventure      6.462245\n",
       "Animation      6.551351\n",
       "Biography      7.047115\n",
       "Comedy         6.027016\n",
       "Crime          6.549020\n",
       "Documentary    7.148000\n",
       "Drama          6.734492\n",
       "Family         5.994059\n",
       "Fantasy        5.941414\n",
       "History        7.032143\n",
       "Horror         5.583590\n",
       "Music          6.411111\n",
       "Musical        5.953333\n",
       "Mystery        6.411607\n",
       "News           7.600000\n",
       "Romance        6.390338\n",
       "Sci-Fi         6.272222\n",
       "Short          5.200000\n",
       "Sport          6.624138\n",
       "Thriller       6.164655\n",
       "War            6.976000\n",
       "Western        6.178571\n",
       "Name: IMDB_Score, dtype: float64"
      ]
     },
     "execution_count": 14,
     "metadata": {},
     "output_type": "execute_result"
    }
   ],
   "source": [
    "#Para chamar a função após database.groupby(\"Main genre\") não pode haver espaço entre palavras, no caso \"IMDB Score\"\n",
    "database[\"IMDB_Score\"] = database[\"IMDB Score\"]\n",
    "\n",
    "#database.groupby(\"Main genre\") aglutina todos os dados em Main genre\n",
    "#database.groupby(\"Main genre\").IMBD_Score.mean() pega qual a média do IMDB_Score por Main genre\n",
    "media_por_Main_genre = database.groupby(\"Main genre\").IMDB_Score.mean()\n",
    "\n",
    "#Chamamento da variável\n",
    "media_por_Main_genre"
   ]
  },
  {
   "cell_type": "code",
   "execution_count": null,
   "metadata": {},
   "outputs": [],
   "source": []
  }
 ],
 "metadata": {
  "kernelspec": {
   "display_name": "Python 3",
   "language": "python",
   "name": "python3"
  },
  "language_info": {
   "codemirror_mode": {
    "name": "ipython",
    "version": 3
   },
   "file_extension": ".py",
   "mimetype": "text/x-python",
   "name": "python",
   "nbconvert_exporter": "python",
   "pygments_lexer": "ipython3",
   "version": "3.8.5"
  }
 },
 "nbformat": 4,
 "nbformat_minor": 4
}
